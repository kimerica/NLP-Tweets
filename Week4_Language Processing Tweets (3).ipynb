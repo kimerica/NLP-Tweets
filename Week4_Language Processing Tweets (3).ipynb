{
 "cells": [
  {
   "cell_type": "code",
   "execution_count": 17,
   "id": "75f6e297-8199-4113-b08c-36c788d23e5d",
   "metadata": {},
   "outputs": [],
   "source": [
    "import pandas as pd\n",
    "import numpy as np\n",
    "import matplotlib.pyplot as plt\n",
    "import seaborn as sns\n",
    "import re\n",
    "from sklearn.feature_extraction.text import CountVectorizer\n",
    "from wordcloud import WordCloud\n",
    "from tensorflow.keras.models import Sequential\n",
    "from tensorflow.keras.layers import Embedding, LSTM, Bidirectional, Dense, Dropout, GRU, SimpleRNN\n",
    "from sklearn.feature_extraction.text import TfidfVectorizer\n",
    "from sklearn.model_selection import train_test_split\n",
    "from tensorflow.keras.optimizers import Adam\n",
    "from keras.callbacks import EarlyStopping\n",
    "import tensorflow as tf\n",
    "import torch\n",
    "import torch.nn as nn\n",
    "import torch.optim as optim\n",
    "from torch.utils.data import DataLoader, TensorDataset"
   ]
  },
  {
   "cell_type": "code",
   "execution_count": 18,
   "id": "a0fed74e-23f9-4c52-b03b-f156d8b8a03f",
   "metadata": {},
   "outputs": [],
   "source": [
    "# Load CSV files\n",
    "train = pd.read_csv('train.csv')\n",
    "test = pd.read_csv('test.csv')"
   ]
  },
  {
   "cell_type": "code",
   "execution_count": 19,
   "id": "60aa3dce-d756-4fb0-895e-364d8c2e322c",
   "metadata": {},
   "outputs": [
    {
     "data": {
      "text/html": [
       "<div>\n",
       "<style scoped>\n",
       "    .dataframe tbody tr th:only-of-type {\n",
       "        vertical-align: middle;\n",
       "    }\n",
       "\n",
       "    .dataframe tbody tr th {\n",
       "        vertical-align: top;\n",
       "    }\n",
       "\n",
       "    .dataframe thead th {\n",
       "        text-align: right;\n",
       "    }\n",
       "</style>\n",
       "<table border=\"1\" class=\"dataframe\">\n",
       "  <thead>\n",
       "    <tr style=\"text-align: right;\">\n",
       "      <th></th>\n",
       "      <th>id</th>\n",
       "      <th>keyword</th>\n",
       "      <th>location</th>\n",
       "      <th>text</th>\n",
       "      <th>target</th>\n",
       "    </tr>\n",
       "  </thead>\n",
       "  <tbody>\n",
       "    <tr>\n",
       "      <th>0</th>\n",
       "      <td>1</td>\n",
       "      <td>NaN</td>\n",
       "      <td>NaN</td>\n",
       "      <td>Our Deeds are the Reason of this #earthquake M...</td>\n",
       "      <td>1</td>\n",
       "    </tr>\n",
       "    <tr>\n",
       "      <th>1</th>\n",
       "      <td>4</td>\n",
       "      <td>NaN</td>\n",
       "      <td>NaN</td>\n",
       "      <td>Forest fire near La Ronge Sask. Canada</td>\n",
       "      <td>1</td>\n",
       "    </tr>\n",
       "    <tr>\n",
       "      <th>2</th>\n",
       "      <td>5</td>\n",
       "      <td>NaN</td>\n",
       "      <td>NaN</td>\n",
       "      <td>All residents asked to 'shelter in place' are ...</td>\n",
       "      <td>1</td>\n",
       "    </tr>\n",
       "    <tr>\n",
       "      <th>3</th>\n",
       "      <td>6</td>\n",
       "      <td>NaN</td>\n",
       "      <td>NaN</td>\n",
       "      <td>13,000 people receive #wildfires evacuation or...</td>\n",
       "      <td>1</td>\n",
       "    </tr>\n",
       "    <tr>\n",
       "      <th>4</th>\n",
       "      <td>7</td>\n",
       "      <td>NaN</td>\n",
       "      <td>NaN</td>\n",
       "      <td>Just got sent this photo from Ruby #Alaska as ...</td>\n",
       "      <td>1</td>\n",
       "    </tr>\n",
       "  </tbody>\n",
       "</table>\n",
       "</div>"
      ],
      "text/plain": [
       "   id keyword location                                               text  \\\n",
       "0   1     NaN      NaN  Our Deeds are the Reason of this #earthquake M...   \n",
       "1   4     NaN      NaN             Forest fire near La Ronge Sask. Canada   \n",
       "2   5     NaN      NaN  All residents asked to 'shelter in place' are ...   \n",
       "3   6     NaN      NaN  13,000 people receive #wildfires evacuation or...   \n",
       "4   7     NaN      NaN  Just got sent this photo from Ruby #Alaska as ...   \n",
       "\n",
       "   target  \n",
       "0       1  \n",
       "1       1  \n",
       "2       1  \n",
       "3       1  \n",
       "4       1  "
      ]
     },
     "execution_count": 19,
     "metadata": {},
     "output_type": "execute_result"
    }
   ],
   "source": [
    "train.head()"
   ]
  },
  {
   "cell_type": "code",
   "execution_count": 20,
   "id": "1fcf3b7d-bc5b-4c43-8eac-be5c2e546f09",
   "metadata": {
    "scrolled": true
   },
   "outputs": [
    {
     "data": {
      "text/html": [
       "<div>\n",
       "<style scoped>\n",
       "    .dataframe tbody tr th:only-of-type {\n",
       "        vertical-align: middle;\n",
       "    }\n",
       "\n",
       "    .dataframe tbody tr th {\n",
       "        vertical-align: top;\n",
       "    }\n",
       "\n",
       "    .dataframe thead th {\n",
       "        text-align: right;\n",
       "    }\n",
       "</style>\n",
       "<table border=\"1\" class=\"dataframe\">\n",
       "  <thead>\n",
       "    <tr style=\"text-align: right;\">\n",
       "      <th></th>\n",
       "      <th>id</th>\n",
       "      <th>keyword</th>\n",
       "      <th>location</th>\n",
       "      <th>text</th>\n",
       "    </tr>\n",
       "  </thead>\n",
       "  <tbody>\n",
       "    <tr>\n",
       "      <th>0</th>\n",
       "      <td>0</td>\n",
       "      <td>NaN</td>\n",
       "      <td>NaN</td>\n",
       "      <td>Just happened a terrible car crash</td>\n",
       "    </tr>\n",
       "    <tr>\n",
       "      <th>1</th>\n",
       "      <td>2</td>\n",
       "      <td>NaN</td>\n",
       "      <td>NaN</td>\n",
       "      <td>Heard about #earthquake is different cities, s...</td>\n",
       "    </tr>\n",
       "    <tr>\n",
       "      <th>2</th>\n",
       "      <td>3</td>\n",
       "      <td>NaN</td>\n",
       "      <td>NaN</td>\n",
       "      <td>there is a forest fire at spot pond, geese are...</td>\n",
       "    </tr>\n",
       "    <tr>\n",
       "      <th>3</th>\n",
       "      <td>9</td>\n",
       "      <td>NaN</td>\n",
       "      <td>NaN</td>\n",
       "      <td>Apocalypse lighting. #Spokane #wildfires</td>\n",
       "    </tr>\n",
       "    <tr>\n",
       "      <th>4</th>\n",
       "      <td>11</td>\n",
       "      <td>NaN</td>\n",
       "      <td>NaN</td>\n",
       "      <td>Typhoon Soudelor kills 28 in China and Taiwan</td>\n",
       "    </tr>\n",
       "  </tbody>\n",
       "</table>\n",
       "</div>"
      ],
      "text/plain": [
       "   id keyword location                                               text\n",
       "0   0     NaN      NaN                 Just happened a terrible car crash\n",
       "1   2     NaN      NaN  Heard about #earthquake is different cities, s...\n",
       "2   3     NaN      NaN  there is a forest fire at spot pond, geese are...\n",
       "3   9     NaN      NaN           Apocalypse lighting. #Spokane #wildfires\n",
       "4  11     NaN      NaN      Typhoon Soudelor kills 28 in China and Taiwan"
      ]
     },
     "execution_count": 20,
     "metadata": {},
     "output_type": "execute_result"
    }
   ],
   "source": [
    "test.head()"
   ]
  },
  {
   "cell_type": "markdown",
   "id": "2a6eed14-9bb1-4907-ad96-fceab8090476",
   "metadata": {},
   "source": [
    "Using the texts in tweet, I have to predict whether a given tweet is realted to a real diasater (target = 1),\n",
    "or not (target = 0). Building a machine learning which can do this work is very challenging because tweets\n",
    "contain informal language, slang and ambiguous phrases. Therefore, my goal in this project is to use Natual Language Processing (NLP)\n",
    "techniques to interpret these tweets and classify them accurately. \n",
    "\n",
    "First of all, let's check some basic information about the data sets."
   ]
  },
  {
   "cell_type": "code",
   "execution_count": 21,
   "id": "53d12ffc-9f8f-4b5b-ace3-23d5388142b3",
   "metadata": {},
   "outputs": [
    {
     "name": "stdout",
     "output_type": "stream",
     "text": [
      "Row and column numbers (7613, 5)\n",
      "-------------------------------------------------------\n",
      "<class 'pandas.core.frame.DataFrame'>\n",
      "RangeIndex: 7613 entries, 0 to 7612\n",
      "Data columns (total 5 columns):\n",
      " #   Column    Non-Null Count  Dtype \n",
      "---  ------    --------------  ----- \n",
      " 0   id        7613 non-null   int64 \n",
      " 1   keyword   7552 non-null   object\n",
      " 2   location  5080 non-null   object\n",
      " 3   text      7613 non-null   object\n",
      " 4   target    7613 non-null   int64 \n",
      "dtypes: int64(2), object(3)\n",
      "memory usage: 297.5+ KB\n",
      "None\n"
     ]
    }
   ],
   "source": [
    "#Checking basic information of train dataset\n",
    "print(\"Row and column numbers\", train.shape)\n",
    "print('-------------------------------------------------------')\n",
    "\n",
    "print(train.info())"
   ]
  },
  {
   "cell_type": "markdown",
   "id": "105d8952-f083-40c2-a450-91ebf4c8c02e",
   "metadata": {},
   "source": [
    "There are total 7613 rows in training data set. The 'id', 'text', and 'target' do not have any null value,\n",
    "but 'keyword' and 'location' have some null values. The goal of this project is to determine if texts from\n",
    "tweets are related to real disaster so 'text' and 'target' columns are the only columns that I really need.\n",
    "'keyword' and 'location' columns have a lot of null values anyways so let's drop these 2 columns."
   ]
  },
  {
   "cell_type": "code",
   "execution_count": 22,
   "id": "9384abf8-5897-4c7f-bf50-e2869c8ee862",
   "metadata": {},
   "outputs": [
    {
     "name": "stdout",
     "output_type": "stream",
     "text": [
      "   id                                               text  target\n",
      "0   1  Our Deeds are the Reason of this #earthquake M...       1\n",
      "1   4             Forest fire near La Ronge Sask. Canada       1\n",
      "2   5  All residents asked to 'shelter in place' are ...       1\n",
      "3   6  13,000 people receive #wildfires evacuation or...       1\n",
      "4   7  Just got sent this photo from Ruby #Alaska as ...       1\n"
     ]
    }
   ],
   "source": [
    "#Dropping 'keyword' and 'location' columns\n",
    "train.drop(columns = ['keyword', 'location'], inplace=True)\n",
    "print(train.head())"
   ]
  },
  {
   "cell_type": "code",
   "execution_count": 23,
   "id": "9df5844d-eb3b-4695-93b2-a78981812f79",
   "metadata": {},
   "outputs": [
    {
     "name": "stdout",
     "output_type": "stream",
     "text": [
      "Row and column numbers (3263, 4)\n",
      "-------------------------------------------------------\n",
      "<class 'pandas.core.frame.DataFrame'>\n",
      "RangeIndex: 3263 entries, 0 to 3262\n",
      "Data columns (total 4 columns):\n",
      " #   Column    Non-Null Count  Dtype \n",
      "---  ------    --------------  ----- \n",
      " 0   id        3263 non-null   int64 \n",
      " 1   keyword   3237 non-null   object\n",
      " 2   location  2158 non-null   object\n",
      " 3   text      3263 non-null   object\n",
      "dtypes: int64(1), object(3)\n",
      "memory usage: 102.1+ KB\n",
      "None\n"
     ]
    }
   ],
   "source": [
    "#Checking basic information of test dataset\n",
    "print(\"Row and column numbers\", test.shape)\n",
    "print('-------------------------------------------------------')\n",
    "\n",
    "print(test.info())"
   ]
  },
  {
   "cell_type": "markdown",
   "id": "70143c88-bb49-4af9-9293-847c641b141d",
   "metadata": {},
   "source": [
    "Same as the training data set, 'keyword' and 'location' are not needed for test data set, but I will\n",
    "organize the unnecessary columns later when I format the sumbmission file."
   ]
  },
  {
   "cell_type": "markdown",
   "id": "3e53a5ce-9e7d-47b6-9b2a-675c232e16f5",
   "metadata": {},
   "source": [
    "Before doing the exploratory data analysis (EDA), I am going to preprocess the texts little bit."
   ]
  },
  {
   "cell_type": "code",
   "execution_count": 24,
   "id": "8379358d-c475-4319-8a21-28b2ce78c411",
   "metadata": {
    "scrolled": true
   },
   "outputs": [
    {
     "name": "stdout",
     "output_type": "stream",
     "text": [
      "         id                                               text  target  \\\n",
      "0         1  Our Deeds are the Reason of this #earthquake M...       1   \n",
      "1         4             Forest fire near La Ronge Sask. Canada       1   \n",
      "2         5  All residents asked to 'shelter in place' are ...       1   \n",
      "3         6  13,000 people receive #wildfires evacuation or...       1   \n",
      "4         7  Just got sent this photo from Ruby #Alaska as ...       1   \n",
      "...     ...                                                ...     ...   \n",
      "7608  10869  Two giant cranes holding a bridge collapse int...       1   \n",
      "7609  10870  @aria_ahrary @TheTawniest The out of control w...       1   \n",
      "7610  10871  M1.94 [01:04 UTC]?5km S of Volcano Hawaii. htt...       1   \n",
      "7611  10872  Police investigating after an e-bike collided ...       1   \n",
      "7612  10873  The Latest: More Homes Razed by Northern Calif...       1   \n",
      "\n",
      "                                             clean_text  \n",
      "0     our deeds are the reason of this earthquake ma...  \n",
      "1                 forest fire near la ronge sask canada  \n",
      "2     all residents asked to shelter in place are be...  \n",
      "3      people receive wildfires evacuation orders in...  \n",
      "4     just got sent this photo from ruby alaska as s...  \n",
      "...                                                 ...  \n",
      "7608  two giant cranes holding a bridge collapse int...  \n",
      "7609  ariaahrary thetawniest the out of control wild...  \n",
      "7610                      m  utckm s of volcano hawaii   \n",
      "7611  police investigating after an ebike collided w...  \n",
      "7612  the latest more homes razed by northern califo...  \n",
      "\n",
      "[7613 rows x 4 columns]\n"
     ]
    }
   ],
   "source": [
    "#Preprocessing 'text'\n",
    "def preprocess_text(text):\n",
    "    text = text.lower()\n",
    "    text = re.sub(r'http\\S+', '', text)\n",
    "    text = re.sub(r'[^a-zA-A\\s]', '', text)\n",
    "    return text\n",
    "\n",
    "train['clean_text'] = train['text'].apply(preprocess_text)\n",
    "print(train)"
   ]
  },
  {
   "cell_type": "markdown",
   "id": "62be4b04-24e6-41d4-b74a-cbcde94f91e2",
   "metadata": {},
   "source": [
    "The texts are cleaned up so it's time to explore the data."
   ]
  },
  {
   "cell_type": "code",
   "execution_count": 25,
   "id": "f55cb184-3d64-4391-b166-e0e89981a6e5",
   "metadata": {
    "scrolled": true
   },
   "outputs": [
    {
     "data": {
      "image/png": "[encoded data removed]",
      "text/plain": [
       "<Figure size 600x500 with 1 Axes>"
      ]
     },
     "metadata": {},
     "output_type": "display_data"
    }
   ],
   "source": [
    "#Traget Distribution\n",
    "plt.figure(figsize=(6, 5))\n",
    "ax= sns.countplot(x='target', data=train)\n",
    "plt.title('Target Variable Distribution')\n",
    "plt.xlabel('Target (1 = Disaster, 0 = Non-Disaster)')\n",
    "plt.ylabel('Count')\n",
    "\n",
    "for p in ax.patches:\n",
    "    ax.annotate(f'{int(p.get_height())}',(p.get_x() + p.get_width() / 2., p.get_height()),  \n",
    "        ha='center',va='center',fontsize=12,color='black',xytext=(0, 5),textcoords='offset points')\n",
    "        \n",
    "plt.show()"
   ]
  },
  {
   "cell_type": "markdown",
   "id": "00ea667b-db32-4f90-a2e2-ce30158f702e",
   "metadata": {},
   "source": [
    "It is slightly imbalanced between 2 classes but the difference is not that big so I do not think it will casue\n",
    "any problem later when we predict with the test data set.\n",
    "\n",
    "I am curious about the frequent words in the text which target = 1 (disaseter) and 0 (non-disaster)."
   ]
  },
  {
   "cell_type": "code",
   "execution_count": 26,
   "id": "69f4aace-7971-45a5-8aac-5a18137a80ec",
   "metadata": {},
   "outputs": [
    {
     "data": {
      "image/png": "[encoded data removed]",
      "text/plain": [
       "<Figure size 800x600 with 1 Axes>"
      ]
     },
     "metadata": {},
     "output_type": "display_data"
    }
   ],
   "source": [
    "#Disaster tweets\n",
    "disaster_tweets = train[train['target'] == 1]\n",
    "\n",
    "# Tokenize words \n",
    "vectorizer = CountVectorizer(stop_words='english', max_features=20)\n",
    "word_freq = vectorizer.fit_transform(disaster_tweets['clean_text'])\n",
    "word_counts = word_freq.sum(axis=0).A1\n",
    "words = vectorizer.get_feature_names_out()\n",
    "\n",
    "# Create a DataFrame \n",
    "word_df = pd.DataFrame(zip(words, word_counts), columns=['word', 'count'])\n",
    "word_df = word_df.sort_values(by='count', ascending=False)\n",
    "\n",
    "# Plot \n",
    "plt.figure(figsize=(8,6))\n",
    "sns.barplot(x='count', y='word', data=word_df)\n",
    "plt.title('Top 20 Most Frequent Words in Disaster Tweets')\n",
    "plt.show()"
   ]
  },
  {
   "cell_type": "code",
   "execution_count": 27,
   "id": "558ad0a6-c559-47b4-ac5c-c0c8d6056818",
   "metadata": {},
   "outputs": [
    {
     "data": {
      "image/png": "[encoded data removed]",
      "text/plain": [
       "<Figure size 800x600 with 1 Axes>"
      ]
     },
     "metadata": {},
     "output_type": "display_data"
    }
   ],
   "source": [
    "#Non-disaster tweets\n",
    "nondisaster_tweets = train[train['target'] == 0]\n",
    "\n",
    "# Tokenize words \n",
    "vectorizer = CountVectorizer(stop_words='english', max_features=20)\n",
    "word_freq = vectorizer.fit_transform(nondisaster_tweets['clean_text'])\n",
    "word_counts = word_freq.sum(axis=0).A1\n",
    "words = vectorizer.get_feature_names_out()\n",
    "\n",
    "# Create a DataFrame \n",
    "word_df = pd.DataFrame(zip(words, word_counts), columns=['word', 'count'])\n",
    "word_df = word_df.sort_values(by='count', ascending=False)\n",
    "\n",
    "# Plot \n",
    "plt.figure(figsize=(8,6))\n",
    "sns.barplot(x='count', y='word', data=word_df)\n",
    "plt.title('Top 20 Most Frequent Words in Non-Disaster Tweets')\n",
    "plt.show()"
   ]
  },
  {
   "cell_type": "markdown",
   "id": "d139854f-f4fb-4260-979c-4d3ae66c5e08",
   "metadata": {},
   "source": [
    "The frequent words in Non-disaster tweets seem reasonable. However, some frequent words in disaster tweets\n",
    "can cause some confusion for the predicting model: \"california\", \"like\", and \"just\".\n",
    "\n",
    "In my opinion, removing those 3 words from the text can imrove the accuracy."
   ]
  },
  {
   "cell_type": "code",
   "execution_count": 28,
   "id": "c6dc0201-9d8d-4e31-9c5e-b22a8361c62f",
   "metadata": {},
   "outputs": [],
   "source": [
    "#Removing 'california', 'like', and 'just' words in the clean_text\n",
    "train['clean_text'] = train['clean_text'].str.replace(r'\\b(california|like|just)\\b', '', case=False, regex=True)"
   ]
  },
  {
   "cell_type": "markdown",
   "id": "59036067-fd34-49df-ae04-4de048ad418b",
   "metadata": {},
   "source": [
    "Let's check if those words have been removed."
   ]
  },
  {
   "cell_type": "code",
   "execution_count": 29,
   "id": "9d1bc42a-28da-4500-b4a9-31e449f03e4a",
   "metadata": {},
   "outputs": [
    {
     "data": {
      "image/png": "[encoded data removed]",
      "text/plain": [
       "<Figure size 800x600 with 1 Axes>"
      ]
     },
     "metadata": {},
     "output_type": "display_data"
    }
   ],
   "source": [
    "#Disaster tweets\n",
    "disaster_tweets = train[train['target'] == 1]\n",
    "\n",
    "# Tokenize words \n",
    "vectorizer = CountVectorizer(stop_words='english', max_features=20)\n",
    "word_freq = vectorizer.fit_transform(disaster_tweets['clean_text'])\n",
    "word_counts = word_freq.sum(axis=0).A1\n",
    "words = vectorizer.get_feature_names_out()\n",
    "\n",
    "# Create a DataFrame \n",
    "word_df = pd.DataFrame(zip(words, word_counts), columns=['word', 'count'])\n",
    "word_df = word_df.sort_values(by='count', ascending=False)\n",
    "\n",
    "# Plot \n",
    "plt.figure(figsize=(8,6))\n",
    "sns.barplot(x='count', y='word', data=word_df)\n",
    "plt.title('Top 20 Most Frequent Words in Disaster Tweets')\n",
    "plt.show()"
   ]
  },
  {
   "cell_type": "markdown",
   "id": "e8763bf7-5d98-45be-8461-a0aa0745e99a",
   "metadata": {},
   "source": [
    "Those 3 words had been removed.\n",
    "\n",
    "Before building the model to classify either tweets are disaster-related(1) or non-disaster-related(0),\n",
    "there is a step called word embedding which is basically converting the raw test into numerical representations.\n",
    "\n",
    "I am choosing TF-IDF (Term Frequency-Inverse Document Frequency) this time because it works by assigning a weight to each\n",
    "word based on its frequency in tweets."
   ]
  },
  {
   "cell_type": "code",
   "execution_count": 30,
   "id": "3587117c-3d5c-4e71-98e6-474f73ed7521",
   "metadata": {},
   "outputs": [],
   "source": [
    "#Word Embedding\n",
    "vectorizer = TfidfVectorizer(stop_words = 'english', max_features=5000)\n",
    "X = vectorizer.fit_transform(train['clean_text']).toarray()\n",
    "y = train['target']\n",
    "\n",
    "#Splitting train data into training and validation sets\n",
    "X_train, X_val, y_train, y_val = train_test_split(X, y, test_size=0.2, random_state=42)"
   ]
  },
  {
   "cell_type": "markdown",
   "id": "e15e75ff-c0d5-4a5e-9a16-6f2a487b2df7",
   "metadata": {},
   "source": [
    "For the machine learning model, I am choosing bidirectional LSTMs because this model processes text\n",
    "in both forward and backward directions, which allows the model to capture context from the past, future\n",
    "and the surrounding words, thus improving its understanding sentence context."
   ]
  },
  {
   "cell_type": "code",
   "execution_count": 47,
   "id": "7c06690f-d8dc-445c-86a4-a4278cc63e74",
   "metadata": {},
   "outputs": [
    {
     "name": "stderr",
     "output_type": "stream",
     "text": [
      "/Users/jihyekim/Library/Python/3.9/lib/python/site-packages/keras/src/layers/rnn/bidirectional.py:107: UserWarning: Do not pass an `input_shape`/`input_dim` argument to a layer. When using Sequential models, prefer using an `Input(shape)` object as the first layer in the model instead.\n",
      "  super().__init__(**kwargs)\n"
     ]
    },
    {
     "data": {
      "text/html": [
       "<pre style=\"white-space:pre;overflow-x:auto;line-height:normal;font-family:Menlo,'DejaVu Sans Mono',consolas,'Courier New',monospace\"><span style=\"font-weight: bold\">Model: \"sequential_5\"</span>\n",
       "</pre>\n"
      ],
      "text/plain": [
       "\u001b[1mModel: \"sequential_5\"\u001b[0m\n"
      ]
     },
     "metadata": {},
     "output_type": "display_data"
    },
    {
     "data": {
      "text/html": [
       "<pre style=\"white-space:pre;overflow-x:auto;line-height:normal;font-family:Menlo,'DejaVu Sans Mono',consolas,'Courier New',monospace\">┏━━━━━━━━━━━━━━━━━━━━━━━━━━━━━━━━━┳━━━━━━━━━━━━━━━━━━━━━━━━┳━━━━━━━━━━━━━━━┓\n",
       "┃<span style=\"font-weight: bold\"> Layer (type)                    </span>┃<span style=\"font-weight: bold\"> Output Shape           </span>┃<span style=\"font-weight: bold\">       Param # </span>┃\n",
       "┡━━━━━━━━━━━━━━━━━━━━━━━━━━━━━━━━━╇━━━━━━━━━━━━━━━━━━━━━━━━╇━━━━━━━━━━━━━━━┩\n",
       "│ bidirectional_4 (<span style=\"color: #0087ff; text-decoration-color: #0087ff\">Bidirectional</span>) │ (<span style=\"color: #00d7ff; text-decoration-color: #00d7ff\">None</span>, <span style=\"color: #00af00; text-decoration-color: #00af00\">256</span>)            │       <span style=\"color: #00af00; text-decoration-color: #00af00\">133,120</span> │\n",
       "├─────────────────────────────────┼────────────────────────┼───────────────┤\n",
       "│ dense_8 (<span style=\"color: #0087ff; text-decoration-color: #0087ff\">Dense</span>)                 │ (<span style=\"color: #00d7ff; text-decoration-color: #00d7ff\">None</span>, <span style=\"color: #00af00; text-decoration-color: #00af00\">64</span>)             │        <span style=\"color: #00af00; text-decoration-color: #00af00\">16,448</span> │\n",
       "├─────────────────────────────────┼────────────────────────┼───────────────┤\n",
       "│ dropout_4 (<span style=\"color: #0087ff; text-decoration-color: #0087ff\">Dropout</span>)             │ (<span style=\"color: #00d7ff; text-decoration-color: #00d7ff\">None</span>, <span style=\"color: #00af00; text-decoration-color: #00af00\">64</span>)             │             <span style=\"color: #00af00; text-decoration-color: #00af00\">0</span> │\n",
       "├─────────────────────────────────┼────────────────────────┼───────────────┤\n",
       "│ dense_9 (<span style=\"color: #0087ff; text-decoration-color: #0087ff\">Dense</span>)                 │ (<span style=\"color: #00d7ff; text-decoration-color: #00d7ff\">None</span>, <span style=\"color: #00af00; text-decoration-color: #00af00\">1</span>)              │            <span style=\"color: #00af00; text-decoration-color: #00af00\">65</span> │\n",
       "└─────────────────────────────────┴────────────────────────┴───────────────┘\n",
       "</pre>\n"
      ],
      "text/plain": [
       "┏━━━━━━━━━━━━━━━━━━━━━━━━━━━━━━━━━┳━━━━━━━━━━━━━━━━━━━━━━━━┳━━━━━━━━━━━━━━━┓\n",
       "┃\u001b[1m \u001b[0m\u001b[1mLayer (type)                   \u001b[0m\u001b[1m \u001b[0m┃\u001b[1m \u001b[0m\u001b[1mOutput Shape          \u001b[0m\u001b[1m \u001b[0m┃\u001b[1m \u001b[0m\u001b[1m      Param #\u001b[0m\u001b[1m \u001b[0m┃\n",
       "┡━━━━━━━━━━━━━━━━━━━━━━━━━━━━━━━━━╇━━━━━━━━━━━━━━━━━━━━━━━━╇━━━━━━━━━━━━━━━┩\n",
       "│ bidirectional_4 (\u001b[38;5;33mBidirectional\u001b[0m) │ (\u001b[38;5;45mNone\u001b[0m, \u001b[38;5;34m256\u001b[0m)            │       \u001b[38;5;34m133,120\u001b[0m │\n",
       "├─────────────────────────────────┼────────────────────────┼───────────────┤\n",
       "│ dense_8 (\u001b[38;5;33mDense\u001b[0m)                 │ (\u001b[38;5;45mNone\u001b[0m, \u001b[38;5;34m64\u001b[0m)             │        \u001b[38;5;34m16,448\u001b[0m │\n",
       "├─────────────────────────────────┼────────────────────────┼───────────────┤\n",
       "│ dropout_4 (\u001b[38;5;33mDropout\u001b[0m)             │ (\u001b[38;5;45mNone\u001b[0m, \u001b[38;5;34m64\u001b[0m)             │             \u001b[38;5;34m0\u001b[0m │\n",
       "├─────────────────────────────────┼────────────────────────┼───────────────┤\n",
       "│ dense_9 (\u001b[38;5;33mDense\u001b[0m)                 │ (\u001b[38;5;45mNone\u001b[0m, \u001b[38;5;34m1\u001b[0m)              │            \u001b[38;5;34m65\u001b[0m │\n",
       "└─────────────────────────────────┴────────────────────────┴───────────────┘\n"
      ]
     },
     "metadata": {},
     "output_type": "display_data"
    },
    {
     "data": {
      "text/html": [
       "<pre style=\"white-space:pre;overflow-x:auto;line-height:normal;font-family:Menlo,'DejaVu Sans Mono',consolas,'Courier New',monospace\"><span style=\"font-weight: bold\"> Total params: </span><span style=\"color: #00af00; text-decoration-color: #00af00\">149,633</span> (584.50 KB)\n",
       "</pre>\n"
      ],
      "text/plain": [
       "\u001b[1m Total params: \u001b[0m\u001b[38;5;34m149,633\u001b[0m (584.50 KB)\n"
      ]
     },
     "metadata": {},
     "output_type": "display_data"
    },
    {
     "data": {
      "text/html": [
       "<pre style=\"white-space:pre;overflow-x:auto;line-height:normal;font-family:Menlo,'DejaVu Sans Mono',consolas,'Courier New',monospace\"><span style=\"font-weight: bold\"> Trainable params: </span><span style=\"color: #00af00; text-decoration-color: #00af00\">149,633</span> (584.50 KB)\n",
       "</pre>\n"
      ],
      "text/plain": [
       "\u001b[1m Trainable params: \u001b[0m\u001b[38;5;34m149,633\u001b[0m (584.50 KB)\n"
      ]
     },
     "metadata": {},
     "output_type": "display_data"
    },
    {
     "data": {
      "text/html": [
       "<pre style=\"white-space:pre;overflow-x:auto;line-height:normal;font-family:Menlo,'DejaVu Sans Mono',consolas,'Courier New',monospace\"><span style=\"font-weight: bold\"> Non-trainable params: </span><span style=\"color: #00af00; text-decoration-color: #00af00\">0</span> (0.00 B)\n",
       "</pre>\n"
      ],
      "text/plain": [
       "\u001b[1m Non-trainable params: \u001b[0m\u001b[38;5;34m0\u001b[0m (0.00 B)\n"
      ]
     },
     "metadata": {},
     "output_type": "display_data"
    }
   ],
   "source": [
    "#Bidirectional LSTMs\n",
    "model = Sequential()\n",
    "\n",
    "model.add(Bidirectional(LSTM(128, return_sequences=False), input_shape=(X_train.shape[1], 1)))\n",
    "\n",
    "#Dense layers for classification\n",
    "model.add(Dense(64, activation='relu'))\n",
    "model.add(Dropout(0.5))\n",
    "\n",
    "#Output layer\n",
    "model.add(Dense(1, activation='sigmoid'))\n",
    "\n",
    "model.compile(optimizer='adam', loss= 'binary_crossentropy', metrics = ['accuracy'])\n",
    "\n",
    "model.summary()"
   ]
  },
  {
   "cell_type": "markdown",
   "id": "8e33f5ae-91fc-4ccc-b773-a02c01fe691f",
   "metadata": {},
   "source": [
    "ReLu is chosen as activation for the dense layer because it handles non-linear transformation effectively and \n",
    "compute gradients efficiently.\n",
    "\n",
    "Sigmoid is chosen as activation for the output layer because it's binary classification."
   ]
  },
  {
   "cell_type": "code",
   "execution_count": 40,
   "id": "1ec633be-6bbd-4849-8596-d6a7848c79b9",
   "metadata": {},
   "outputs": [
    {
     "name": "stdout",
     "output_type": "stream",
     "text": [
      "Epoch 1/5\n",
      "\u001b[1m96/96\u001b[0m \u001b[32m━━━━━━━━━━━━━━━━━━━━\u001b[0m\u001b[37m\u001b[0m \u001b[1m306s\u001b[0m 3s/step - accuracy: 0.5671 - loss: 0.6873 - val_accuracy: 0.5739 - val_loss: 0.6826\n",
      "Epoch 2/5\n",
      "\u001b[1m96/96\u001b[0m \u001b[32m━━━━━━━━━━━━━━━━━━━━\u001b[0m\u001b[37m\u001b[0m \u001b[1m417s\u001b[0m 4s/step - accuracy: 0.5690 - loss: 0.6846 - val_accuracy: 0.5739 - val_loss: 0.6829\n",
      "Epoch 3/5\n",
      "\u001b[1m96/96\u001b[0m \u001b[32m━━━━━━━━━━━━━━━━━━━━\u001b[0m\u001b[37m\u001b[0m \u001b[1m390s\u001b[0m 4s/step - accuracy: 0.5595 - loss: 0.6875 - val_accuracy: 0.5739 - val_loss: 0.6821\n",
      "Epoch 4/5\n",
      "\u001b[1m96/96\u001b[0m \u001b[32m━━━━━━━━━━━━━━━━━━━━\u001b[0m\u001b[37m\u001b[0m \u001b[1m391s\u001b[0m 4s/step - accuracy: 0.5865 - loss: 0.6807 - val_accuracy: 0.5739 - val_loss: 0.6846\n",
      "Epoch 5/5\n",
      "\u001b[1m96/96\u001b[0m \u001b[32m━━━━━━━━━━━━━━━━━━━━\u001b[0m\u001b[37m\u001b[0m \u001b[1m389s\u001b[0m 4s/step - accuracy: 0.5697 - loss: 0.6851 - val_accuracy: 0.5739 - val_loss: 0.6821\n",
      "\u001b[1m48/48\u001b[0m \u001b[32m━━━━━━━━━━━━━━━━━━━━\u001b[0m\u001b[37m\u001b[0m \u001b[1m29s\u001b[0m 603ms/step - accuracy: 0.5694 - loss: 0.6834\n",
      "Validation Accuracy: 0.5738673806190491\n"
     ]
    }
   ],
   "source": [
    "#Train the Model\n",
    "history = model.fit(X_train, y_train, epochs=5, batch_size=64, validation_data=(X_val, y_val))\n",
    "\n",
    "#Evaluate the Model\n",
    "loss, accuracy = model.evaluate(X_val, y_val)\n",
    "print(f'Validation Accuracy: {accuracy}')"
   ]
  },
  {
   "cell_type": "markdown",
   "id": "a3340ce4-8c1e-4e49-9dad-d265fe876ba3",
   "metadata": {},
   "source": [
    "After training the model with the training data set, the accuracy score is generated with the validation\n",
    "data set. It is 0.57 which is not that great.\n",
    "\n",
    "Let's try out simpler architecture."
   ]
  },
  {
   "cell_type": "code",
   "execution_count": 54,
   "id": "81e2cccb-a728-4a1f-88c5-21331d5c73d0",
   "metadata": {},
   "outputs": [
    {
     "data": {
      "text/html": [
       "<pre style=\"white-space:pre;overflow-x:auto;line-height:normal;font-family:Menlo,'DejaVu Sans Mono',consolas,'Courier New',monospace\"><span style=\"font-weight: bold\">Model: \"sequential_10\"</span>\n",
       "</pre>\n"
      ],
      "text/plain": [
       "\u001b[1mModel: \"sequential_10\"\u001b[0m\n"
      ]
     },
     "metadata": {},
     "output_type": "display_data"
    },
    {
     "data": {
      "text/html": [
       "<pre style=\"white-space:pre;overflow-x:auto;line-height:normal;font-family:Menlo,'DejaVu Sans Mono',consolas,'Courier New',monospace\">┏━━━━━━━━━━━━━━━━━━━━━━━━━━━━━━━━━┳━━━━━━━━━━━━━━━━━━━━━━━━┳━━━━━━━━━━━━━━━┓\n",
       "┃<span style=\"font-weight: bold\"> Layer (type)                    </span>┃<span style=\"font-weight: bold\"> Output Shape           </span>┃<span style=\"font-weight: bold\">       Param # </span>┃\n",
       "┡━━━━━━━━━━━━━━━━━━━━━━━━━━━━━━━━━╇━━━━━━━━━━━━━━━━━━━━━━━━╇━━━━━━━━━━━━━━━┩\n",
       "│ simple_rnn (<span style=\"color: #0087ff; text-decoration-color: #0087ff\">SimpleRNN</span>)          │ (<span style=\"color: #00d7ff; text-decoration-color: #00d7ff\">None</span>, <span style=\"color: #00af00; text-decoration-color: #00af00\">128</span>)            │        <span style=\"color: #00af00; text-decoration-color: #00af00\">16,640</span> │\n",
       "├─────────────────────────────────┼────────────────────────┼───────────────┤\n",
       "│ dense_16 (<span style=\"color: #0087ff; text-decoration-color: #0087ff\">Dense</span>)                │ (<span style=\"color: #00d7ff; text-decoration-color: #00d7ff\">None</span>, <span style=\"color: #00af00; text-decoration-color: #00af00\">64</span>)             │         <span style=\"color: #00af00; text-decoration-color: #00af00\">8,256</span> │\n",
       "├─────────────────────────────────┼────────────────────────┼───────────────┤\n",
       "│ dropout_8 (<span style=\"color: #0087ff; text-decoration-color: #0087ff\">Dropout</span>)             │ (<span style=\"color: #00d7ff; text-decoration-color: #00d7ff\">None</span>, <span style=\"color: #00af00; text-decoration-color: #00af00\">64</span>)             │             <span style=\"color: #00af00; text-decoration-color: #00af00\">0</span> │\n",
       "├─────────────────────────────────┼────────────────────────┼───────────────┤\n",
       "│ dense_17 (<span style=\"color: #0087ff; text-decoration-color: #0087ff\">Dense</span>)                │ (<span style=\"color: #00d7ff; text-decoration-color: #00d7ff\">None</span>, <span style=\"color: #00af00; text-decoration-color: #00af00\">1</span>)              │            <span style=\"color: #00af00; text-decoration-color: #00af00\">65</span> │\n",
       "└─────────────────────────────────┴────────────────────────┴───────────────┘\n",
       "</pre>\n"
      ],
      "text/plain": [
       "┏━━━━━━━━━━━━━━━━━━━━━━━━━━━━━━━━━┳━━━━━━━━━━━━━━━━━━━━━━━━┳━━━━━━━━━━━━━━━┓\n",
       "┃\u001b[1m \u001b[0m\u001b[1mLayer (type)                   \u001b[0m\u001b[1m \u001b[0m┃\u001b[1m \u001b[0m\u001b[1mOutput Shape          \u001b[0m\u001b[1m \u001b[0m┃\u001b[1m \u001b[0m\u001b[1m      Param #\u001b[0m\u001b[1m \u001b[0m┃\n",
       "┡━━━━━━━━━━━━━━━━━━━━━━━━━━━━━━━━━╇━━━━━━━━━━━━━━━━━━━━━━━━╇━━━━━━━━━━━━━━━┩\n",
       "│ simple_rnn (\u001b[38;5;33mSimpleRNN\u001b[0m)          │ (\u001b[38;5;45mNone\u001b[0m, \u001b[38;5;34m128\u001b[0m)            │        \u001b[38;5;34m16,640\u001b[0m │\n",
       "├─────────────────────────────────┼────────────────────────┼───────────────┤\n",
       "│ dense_16 (\u001b[38;5;33mDense\u001b[0m)                │ (\u001b[38;5;45mNone\u001b[0m, \u001b[38;5;34m64\u001b[0m)             │         \u001b[38;5;34m8,256\u001b[0m │\n",
       "├─────────────────────────────────┼────────────────────────┼───────────────┤\n",
       "│ dropout_8 (\u001b[38;5;33mDropout\u001b[0m)             │ (\u001b[38;5;45mNone\u001b[0m, \u001b[38;5;34m64\u001b[0m)             │             \u001b[38;5;34m0\u001b[0m │\n",
       "├─────────────────────────────────┼────────────────────────┼───────────────┤\n",
       "│ dense_17 (\u001b[38;5;33mDense\u001b[0m)                │ (\u001b[38;5;45mNone\u001b[0m, \u001b[38;5;34m1\u001b[0m)              │            \u001b[38;5;34m65\u001b[0m │\n",
       "└─────────────────────────────────┴────────────────────────┴───────────────┘\n"
      ]
     },
     "metadata": {},
     "output_type": "display_data"
    },
    {
     "data": {
      "text/html": [
       "<pre style=\"white-space:pre;overflow-x:auto;line-height:normal;font-family:Menlo,'DejaVu Sans Mono',consolas,'Courier New',monospace\"><span style=\"font-weight: bold\"> Total params: </span><span style=\"color: #00af00; text-decoration-color: #00af00\">24,961</span> (97.50 KB)\n",
       "</pre>\n"
      ],
      "text/plain": [
       "\u001b[1m Total params: \u001b[0m\u001b[38;5;34m24,961\u001b[0m (97.50 KB)\n"
      ]
     },
     "metadata": {},
     "output_type": "display_data"
    },
    {
     "data": {
      "text/html": [
       "<pre style=\"white-space:pre;overflow-x:auto;line-height:normal;font-family:Menlo,'DejaVu Sans Mono',consolas,'Courier New',monospace\"><span style=\"font-weight: bold\"> Trainable params: </span><span style=\"color: #00af00; text-decoration-color: #00af00\">24,961</span> (97.50 KB)\n",
       "</pre>\n"
      ],
      "text/plain": [
       "\u001b[1m Trainable params: \u001b[0m\u001b[38;5;34m24,961\u001b[0m (97.50 KB)\n"
      ]
     },
     "metadata": {},
     "output_type": "display_data"
    },
    {
     "data": {
      "text/html": [
       "<pre style=\"white-space:pre;overflow-x:auto;line-height:normal;font-family:Menlo,'DejaVu Sans Mono',consolas,'Courier New',monospace\"><span style=\"font-weight: bold\"> Non-trainable params: </span><span style=\"color: #00af00; text-decoration-color: #00af00\">0</span> (0.00 B)\n",
       "</pre>\n"
      ],
      "text/plain": [
       "\u001b[1m Non-trainable params: \u001b[0m\u001b[38;5;34m0\u001b[0m (0.00 B)\n"
      ]
     },
     "metadata": {},
     "output_type": "display_data"
    }
   ],
   "source": [
    "model_rnn = Sequential()\n",
    "model_rnn.add(SimpleRNN(128, return_sequences=False, input_shape=(X_train.shape[1], 1)))\n",
    "model_rnn.add(Dense(64, activation='relu'))\n",
    "model_rnn.add(Dropout(0.5))\n",
    "model_rnn.add(Dense(1, activation='sigmoid'))\n",
    "\n",
    "model_rnn.compile(optimizer='adam', loss='binary_crossentropy', metrics=['accuracy'])\n",
    "model_rnn.summary()\n",
    "\n"
   ]
  },
  {
   "cell_type": "code",
   "execution_count": 55,
   "id": "9acf35ed-b05e-4066-bb9b-adc5d30a0da1",
   "metadata": {},
   "outputs": [
    {
     "name": "stdout",
     "output_type": "stream",
     "text": [
      "Epoch 1/5\n",
      "\u001b[1m96/96\u001b[0m \u001b[32m━━━━━━━━━━━━━━━━━━━━\u001b[0m\u001b[37m\u001b[0m \u001b[1m63s\u001b[0m 654ms/step - accuracy: 0.5330 - loss: 0.6998 - val_accuracy: 0.4268 - val_loss: 0.6984\n",
      "Epoch 2/5\n",
      "\u001b[1m96/96\u001b[0m \u001b[32m━━━━━━━━━━━━━━━━━━━━\u001b[0m\u001b[37m\u001b[0m \u001b[1m61s\u001b[0m 636ms/step - accuracy: 0.5362 - loss: 0.6944 - val_accuracy: 0.5739 - val_loss: 0.6825\n",
      "Epoch 3/5\n",
      "\u001b[1m96/96\u001b[0m \u001b[32m━━━━━━━━━━━━━━━━━━━━\u001b[0m\u001b[37m\u001b[0m \u001b[1m62s\u001b[0m 643ms/step - accuracy: 0.5707 - loss: 0.6860 - val_accuracy: 0.5739 - val_loss: 0.6828\n",
      "Epoch 4/5\n",
      "\u001b[1m96/96\u001b[0m \u001b[32m━━━━━━━━━━━━━━━━━━━━\u001b[0m\u001b[37m\u001b[0m \u001b[1m61s\u001b[0m 634ms/step - accuracy: 0.5670 - loss: 0.6849 - val_accuracy: 0.5739 - val_loss: 0.6826\n",
      "Epoch 5/5\n",
      "\u001b[1m96/96\u001b[0m \u001b[32m━━━━━━━━━━━━━━━━━━━━\u001b[0m\u001b[37m\u001b[0m \u001b[1m61s\u001b[0m 634ms/step - accuracy: 0.5656 - loss: 0.6866 - val_accuracy: 0.5739 - val_loss: 0.6822\n",
      "\u001b[1m48/48\u001b[0m \u001b[32m━━━━━━━━━━━━━━━━━━━━\u001b[0m\u001b[37m\u001b[0m \u001b[1m27s\u001b[0m 565ms/step - accuracy: 0.5640 - loss: 0.6931\n",
      "Validation Accuracy: 0.5692711472511292\n"
     ]
    }
   ],
   "source": [
    "#Train the Model\n",
    "history_rnn = model_rnn.fit(X_train, y_train, epochs=5, batch_size=64, validation_data=(X_val, y_val))\n",
    "\n",
    "#Evaluate the Model\n",
    "loss, accuracy = model.evaluate(X_val, y_val)\n",
    "print(f'Validation Accuracy: {accuracy}')"
   ]
  },
  {
   "cell_type": "markdown",
   "id": "3566779b-71f4-4e9a-965f-59c1b1bb6436",
   "metadata": {},
   "source": [
    "Bidirectional LSTM and simple RNN's accuracy scores on the validation data set are not that different.\n",
    "They are almost same, which means both of them are not that great. This can mean that Bidirectional LSTM may be too simple\n",
    "to perform properly. \n",
    "\n",
    "I would like to try adding one more layer, which will make the model more complex, to the bidirectional LSTM model and see if this improves its performance.\n",
    "Stacking LSTM layers can enhance model performance because each layer can learn features at different levels of dependencies and\n",
    "patterns. Also, another layer can allow model to learn more complex representations which will lead to better generalization \n",
    "on unseen data."
   ]
  },
  {
   "cell_type": "code",
   "execution_count": 57,
   "id": "47c354f2-7101-40ec-9fac-d2e4a6d581a1",
   "metadata": {},
   "outputs": [
    {
     "data": {
      "text/html": [
       "<pre style=\"white-space:pre;overflow-x:auto;line-height:normal;font-family:Menlo,'DejaVu Sans Mono',consolas,'Courier New',monospace\"><span style=\"font-weight: bold\">Model: \"sequential_12\"</span>\n",
       "</pre>\n"
      ],
      "text/plain": [
       "\u001b[1mModel: \"sequential_12\"\u001b[0m\n"
      ]
     },
     "metadata": {},
     "output_type": "display_data"
    },
    {
     "data": {
      "text/html": [
       "<pre style=\"white-space:pre;overflow-x:auto;line-height:normal;font-family:Menlo,'DejaVu Sans Mono',consolas,'Courier New',monospace\">┏━━━━━━━━━━━━━━━━━━━━━━━━━━━━━━━━━┳━━━━━━━━━━━━━━━━━━━━━━━━┳━━━━━━━━━━━━━━━┓\n",
       "┃<span style=\"font-weight: bold\"> Layer (type)                    </span>┃<span style=\"font-weight: bold\"> Output Shape           </span>┃<span style=\"font-weight: bold\">       Param # </span>┃\n",
       "┡━━━━━━━━━━━━━━━━━━━━━━━━━━━━━━━━━╇━━━━━━━━━━━━━━━━━━━━━━━━╇━━━━━━━━━━━━━━━┩\n",
       "│ bidirectional_10                │ (<span style=\"color: #00d7ff; text-decoration-color: #00d7ff\">None</span>, <span style=\"color: #00af00; text-decoration-color: #00af00\">5000</span>, <span style=\"color: #00af00; text-decoration-color: #00af00\">256</span>)      │       <span style=\"color: #00af00; text-decoration-color: #00af00\">133,120</span> │\n",
       "│ (<span style=\"color: #0087ff; text-decoration-color: #0087ff\">Bidirectional</span>)                 │                        │               │\n",
       "├─────────────────────────────────┼────────────────────────┼───────────────┤\n",
       "│ bidirectional_11                │ (<span style=\"color: #00d7ff; text-decoration-color: #00d7ff\">None</span>, <span style=\"color: #00af00; text-decoration-color: #00af00\">128</span>)            │       <span style=\"color: #00af00; text-decoration-color: #00af00\">164,352</span> │\n",
       "│ (<span style=\"color: #0087ff; text-decoration-color: #0087ff\">Bidirectional</span>)                 │                        │               │\n",
       "├─────────────────────────────────┼────────────────────────┼───────────────┤\n",
       "│ dense_18 (<span style=\"color: #0087ff; text-decoration-color: #0087ff\">Dense</span>)                │ (<span style=\"color: #00d7ff; text-decoration-color: #00d7ff\">None</span>, <span style=\"color: #00af00; text-decoration-color: #00af00\">64</span>)             │         <span style=\"color: #00af00; text-decoration-color: #00af00\">8,256</span> │\n",
       "├─────────────────────────────────┼────────────────────────┼───────────────┤\n",
       "│ dropout_9 (<span style=\"color: #0087ff; text-decoration-color: #0087ff\">Dropout</span>)             │ (<span style=\"color: #00d7ff; text-decoration-color: #00d7ff\">None</span>, <span style=\"color: #00af00; text-decoration-color: #00af00\">64</span>)             │             <span style=\"color: #00af00; text-decoration-color: #00af00\">0</span> │\n",
       "├─────────────────────────────────┼────────────────────────┼───────────────┤\n",
       "│ dense_19 (<span style=\"color: #0087ff; text-decoration-color: #0087ff\">Dense</span>)                │ (<span style=\"color: #00d7ff; text-decoration-color: #00d7ff\">None</span>, <span style=\"color: #00af00; text-decoration-color: #00af00\">1</span>)              │            <span style=\"color: #00af00; text-decoration-color: #00af00\">65</span> │\n",
       "└─────────────────────────────────┴────────────────────────┴───────────────┘\n",
       "</pre>\n"
      ],
      "text/plain": [
       "┏━━━━━━━━━━━━━━━━━━━━━━━━━━━━━━━━━┳━━━━━━━━━━━━━━━━━━━━━━━━┳━━━━━━━━━━━━━━━┓\n",
       "┃\u001b[1m \u001b[0m\u001b[1mLayer (type)                   \u001b[0m\u001b[1m \u001b[0m┃\u001b[1m \u001b[0m\u001b[1mOutput Shape          \u001b[0m\u001b[1m \u001b[0m┃\u001b[1m \u001b[0m\u001b[1m      Param #\u001b[0m\u001b[1m \u001b[0m┃\n",
       "┡━━━━━━━━━━━━━━━━━━━━━━━━━━━━━━━━━╇━━━━━━━━━━━━━━━━━━━━━━━━╇━━━━━━━━━━━━━━━┩\n",
       "│ bidirectional_10                │ (\u001b[38;5;45mNone\u001b[0m, \u001b[38;5;34m5000\u001b[0m, \u001b[38;5;34m256\u001b[0m)      │       \u001b[38;5;34m133,120\u001b[0m │\n",
       "│ (\u001b[38;5;33mBidirectional\u001b[0m)                 │                        │               │\n",
       "├─────────────────────────────────┼────────────────────────┼───────────────┤\n",
       "│ bidirectional_11                │ (\u001b[38;5;45mNone\u001b[0m, \u001b[38;5;34m128\u001b[0m)            │       \u001b[38;5;34m164,352\u001b[0m │\n",
       "│ (\u001b[38;5;33mBidirectional\u001b[0m)                 │                        │               │\n",
       "├─────────────────────────────────┼────────────────────────┼───────────────┤\n",
       "│ dense_18 (\u001b[38;5;33mDense\u001b[0m)                │ (\u001b[38;5;45mNone\u001b[0m, \u001b[38;5;34m64\u001b[0m)             │         \u001b[38;5;34m8,256\u001b[0m │\n",
       "├─────────────────────────────────┼────────────────────────┼───────────────┤\n",
       "│ dropout_9 (\u001b[38;5;33mDropout\u001b[0m)             │ (\u001b[38;5;45mNone\u001b[0m, \u001b[38;5;34m64\u001b[0m)             │             \u001b[38;5;34m0\u001b[0m │\n",
       "├─────────────────────────────────┼────────────────────────┼───────────────┤\n",
       "│ dense_19 (\u001b[38;5;33mDense\u001b[0m)                │ (\u001b[38;5;45mNone\u001b[0m, \u001b[38;5;34m1\u001b[0m)              │            \u001b[38;5;34m65\u001b[0m │\n",
       "└─────────────────────────────────┴────────────────────────┴───────────────┘\n"
      ]
     },
     "metadata": {},
     "output_type": "display_data"
    },
    {
     "data": {
      "text/html": [
       "<pre style=\"white-space:pre;overflow-x:auto;line-height:normal;font-family:Menlo,'DejaVu Sans Mono',consolas,'Courier New',monospace\"><span style=\"font-weight: bold\"> Total params: </span><span style=\"color: #00af00; text-decoration-color: #00af00\">305,793</span> (1.17 MB)\n",
       "</pre>\n"
      ],
      "text/plain": [
       "\u001b[1m Total params: \u001b[0m\u001b[38;5;34m305,793\u001b[0m (1.17 MB)\n"
      ]
     },
     "metadata": {},
     "output_type": "display_data"
    },
    {
     "data": {
      "text/html": [
       "<pre style=\"white-space:pre;overflow-x:auto;line-height:normal;font-family:Menlo,'DejaVu Sans Mono',consolas,'Courier New',monospace\"><span style=\"font-weight: bold\"> Trainable params: </span><span style=\"color: #00af00; text-decoration-color: #00af00\">305,793</span> (1.17 MB)\n",
       "</pre>\n"
      ],
      "text/plain": [
       "\u001b[1m Trainable params: \u001b[0m\u001b[38;5;34m305,793\u001b[0m (1.17 MB)\n"
      ]
     },
     "metadata": {},
     "output_type": "display_data"
    },
    {
     "data": {
      "text/html": [
       "<pre style=\"white-space:pre;overflow-x:auto;line-height:normal;font-family:Menlo,'DejaVu Sans Mono',consolas,'Courier New',monospace\"><span style=\"font-weight: bold\"> Non-trainable params: </span><span style=\"color: #00af00; text-decoration-color: #00af00\">0</span> (0.00 B)\n",
       "</pre>\n"
      ],
      "text/plain": [
       "\u001b[1m Non-trainable params: \u001b[0m\u001b[38;5;34m0\u001b[0m (0.00 B)\n"
      ]
     },
     "metadata": {},
     "output_type": "display_data"
    }
   ],
   "source": [
    "#Bidirectional LSTM + one more LSTM layer\n",
    "model_complex = Sequential()\n",
    "\n",
    "model_complex.add(Bidirectional(LSTM(128, return_sequences=True), input_shape=(X_train.shape[1], 1)))\n",
    "model_complex.add(Bidirectional(LSTM(64, return_sequences=False)))\n",
    "\n",
    "#Dense layers for classification\n",
    "model_complex.add(Dense(64, activation='relu'))\n",
    "model_complex.add(Dropout(0.5))\n",
    "\n",
    "#Output layer\n",
    "model_complex.add(Dense(1, activation='sigmoid'))\n",
    "\n",
    "model_complex.compile(optimizer='adam', loss= 'binary_crossentropy', metrics = ['accuracy'])\n",
    "\n",
    "model_complex.summary()"
   ]
  },
  {
   "cell_type": "code",
   "execution_count": 58,
   "id": "326c5149-11ee-444a-b44f-d239f72814b8",
   "metadata": {},
   "outputs": [
    {
     "name": "stdout",
     "output_type": "stream",
     "text": [
      "Epoch 1/5\n",
      "\u001b[1m96/96\u001b[0m \u001b[32m━━━━━━━━━━━━━━━━━━━━\u001b[0m\u001b[37m\u001b[0m \u001b[1m969s\u001b[0m 10s/step - accuracy: 0.5616 - loss: 0.6872 - val_accuracy: 0.5739 - val_loss: 0.6835\n",
      "Epoch 2/5\n",
      "\u001b[1m96/96\u001b[0m \u001b[32m━━━━━━━━━━━━━━━━━━━━\u001b[0m\u001b[37m\u001b[0m \u001b[1m1140s\u001b[0m 12s/step - accuracy: 0.5739 - loss: 0.6834 - val_accuracy: 0.5739 - val_loss: 0.6828\n",
      "Epoch 3/5\n",
      "\u001b[1m96/96\u001b[0m \u001b[32m━━━━━━━━━━━━━━━━━━━━\u001b[0m\u001b[37m\u001b[0m \u001b[1m1123s\u001b[0m 12s/step - accuracy: 0.5628 - loss: 0.6857 - val_accuracy: 0.5739 - val_loss: 0.6828\n",
      "Epoch 4/5\n",
      "\u001b[1m96/96\u001b[0m \u001b[32m━━━━━━━━━━━━━━━━━━━━\u001b[0m\u001b[37m\u001b[0m \u001b[1m1167s\u001b[0m 12s/step - accuracy: 0.5605 - loss: 0.6879 - val_accuracy: 0.5739 - val_loss: 0.6827\n",
      "Epoch 5/5\n",
      "\u001b[1m96/96\u001b[0m \u001b[32m━━━━━━━━━━━━━━━━━━━━\u001b[0m\u001b[37m\u001b[0m \u001b[1m1132s\u001b[0m 12s/step - accuracy: 0.5712 - loss: 0.6829 - val_accuracy: 0.5739 - val_loss: 0.6822\n",
      "\u001b[1m48/48\u001b[0m \u001b[32m━━━━━━━━━━━━━━━━━━━━\u001b[0m\u001b[37m\u001b[0m \u001b[1m75s\u001b[0m 2s/step - accuracy: 0.5694 - loss: 0.6834\n",
      "Validation Accuracy: 0.5738673806190491\n"
     ]
    }
   ],
   "source": [
    "#Train the Model\n",
    "history_complex = model_complex.fit(X_train, y_train, epochs=5, batch_size=64, validation_data=(X_val, y_val))\n",
    "\n",
    "#Evaluate the Model\n",
    "loss, accuracy = model_complex.evaluate(X_val, y_val)\n",
    "print(f'Validation Accuracy: {accuracy}')"
   ]
  },
  {
   "cell_type": "markdown",
   "id": "1b246e42-2224-4f2d-88ff-3d921c3eea4b",
   "metadata": {},
   "source": [
    "The accuracy score on validation data set of more complex bidirectional LSTM model is same as the original\n",
    "bidirectional LSTM model. Adding another LSTM layer did not help.\n",
    "\n",
    "Based on this result, the models might be overfitting the training data. One of the solutions is increasing\n",
    "the dropout rate which helps regularize the model."
   ]
  },
  {
   "cell_type": "code",
   "execution_count": 63,
   "id": "bb7bece6-92e2-4b55-b92f-decd3a82f2d7",
   "metadata": {},
   "outputs": [
    {
     "name": "stdout",
     "output_type": "stream",
     "text": [
      "Training model with dropout rate: 0.6\n",
      "Epoch 1/5\n",
      "\u001b[1m191/191\u001b[0m \u001b[32m━━━━━━━━━━━━━━━━━━━━\u001b[0m\u001b[37m\u001b[0m \u001b[1m920s\u001b[0m 5s/step - accuracy: 0.5690 - loss: 0.6877 - val_accuracy: 0.5739 - val_loss: 0.6829\n",
      "Epoch 2/5\n",
      "\u001b[1m191/191\u001b[0m \u001b[32m━━━━━━━━━━━━━━━━━━━━\u001b[0m\u001b[37m\u001b[0m \u001b[1m1071s\u001b[0m 6s/step - accuracy: 0.5784 - loss: 0.6841 - val_accuracy: 0.5739 - val_loss: 0.6822\n",
      "Epoch 3/5\n",
      "\u001b[1m191/191\u001b[0m \u001b[32m━━━━━━━━━━━━━━━━━━━━\u001b[0m\u001b[37m\u001b[0m \u001b[1m1071s\u001b[0m 6s/step - accuracy: 0.5652 - loss: 0.6866 - val_accuracy: 0.5739 - val_loss: 0.6822\n",
      "Epoch 4/5\n",
      "\u001b[1m191/191\u001b[0m \u001b[32m━━━━━━━━━━━━━━━━━━━━\u001b[0m\u001b[37m\u001b[0m \u001b[1m1064s\u001b[0m 6s/step - accuracy: 0.5514 - loss: 0.6889 - val_accuracy: 0.5739 - val_loss: 0.6824\n",
      "Epoch 5/5\n",
      "\u001b[1m191/191\u001b[0m \u001b[32m━━━━━━━━━━━━━━━━━━━━\u001b[0m\u001b[37m\u001b[0m \u001b[1m1075s\u001b[0m 6s/step - accuracy: 0.5702 - loss: 0.6852 - val_accuracy: 0.5739 - val_loss: 0.6825\n",
      "Validation Loss: 0.6822, Validation Accuracy: 0.5739\n",
      "Training model with dropout rate: 0.8\n",
      "Epoch 1/5\n",
      "\u001b[1m191/191\u001b[0m \u001b[32m━━━━━━━━━━━━━━━━━━━━\u001b[0m\u001b[37m\u001b[0m \u001b[1m903s\u001b[0m 5s/step - accuracy: 0.5388 - loss: 0.6900 - val_accuracy: 0.5739 - val_loss: 0.6825\n",
      "Epoch 2/5\n",
      "\u001b[1m191/191\u001b[0m \u001b[32m━━━━━━━━━━━━━━━━━━━━\u001b[0m\u001b[37m\u001b[0m \u001b[1m1045s\u001b[0m 5s/step - accuracy: 0.5641 - loss: 0.6885 - val_accuracy: 0.5739 - val_loss: 0.6825\n",
      "Epoch 3/5\n",
      "\u001b[1m191/191\u001b[0m \u001b[32m━━━━━━━━━━━━━━━━━━━━\u001b[0m\u001b[37m\u001b[0m \u001b[1m1066s\u001b[0m 6s/step - accuracy: 0.5684 - loss: 0.6870 - val_accuracy: 0.5739 - val_loss: 0.6831\n",
      "Epoch 4/5\n",
      "\u001b[1m191/191\u001b[0m \u001b[32m━━━━━━━━━━━━━━━━━━━━\u001b[0m\u001b[37m\u001b[0m \u001b[1m1056s\u001b[0m 6s/step - accuracy: 0.5626 - loss: 0.6870 - val_accuracy: 0.5739 - val_loss: 0.6829\n",
      "Validation Loss: 0.6825, Validation Accuracy: 0.5739\n",
      "Training model with dropout rate: 0.9\n",
      "Epoch 1/5\n",
      "\u001b[1m191/191\u001b[0m \u001b[32m━━━━━━━━━━━━━━━━━━━━\u001b[0m\u001b[37m\u001b[0m \u001b[1m898s\u001b[0m 5s/step - accuracy: 0.5543 - loss: 0.6899 - val_accuracy: 0.5739 - val_loss: 0.6846\n",
      "Epoch 2/5\n",
      "\u001b[1m191/191\u001b[0m \u001b[32m━━━━━━━━━━━━━━━━━━━━\u001b[0m\u001b[37m\u001b[0m \u001b[1m1047s\u001b[0m 5s/step - accuracy: 0.5607 - loss: 0.6899 - val_accuracy: 0.5739 - val_loss: 0.6848\n",
      "Epoch 3/5\n",
      "\u001b[1m191/191\u001b[0m \u001b[32m━━━━━━━━━━━━━━━━━━━━\u001b[0m\u001b[37m\u001b[0m \u001b[1m1052s\u001b[0m 6s/step - accuracy: 0.5587 - loss: 0.6885 - val_accuracy: 0.5739 - val_loss: 0.6826\n",
      "Epoch 4/5\n",
      "\u001b[1m191/191\u001b[0m \u001b[32m━━━━━━━━━━━━━━━━━━━━\u001b[0m\u001b[37m\u001b[0m \u001b[1m1062s\u001b[0m 6s/step - accuracy: 0.5573 - loss: 0.6869 - val_accuracy: 0.5739 - val_loss: 0.6825\n",
      "Epoch 5/5\n",
      "\u001b[1m191/191\u001b[0m \u001b[32m━━━━━━━━━━━━━━━━━━━━\u001b[0m\u001b[37m\u001b[0m \u001b[1m1051s\u001b[0m 6s/step - accuracy: 0.5525 - loss: 0.6875 - val_accuracy: 0.5739 - val_loss: 0.6827\n",
      "Validation Loss: 0.6825, Validation Accuracy: 0.5739\n"
     ]
    }
   ],
   "source": [
    "#Hyperparameter tuning: different dropout rate\n",
    "def create_model(dropout_rate):\n",
    "    model = Sequential()\n",
    "    model.add(Embedding(input_dim=5000, output_dim=128, input_length=X_train.shape[1])) \n",
    "    model.add(Bidirectional(LSTM(128, return_sequences=False)))\n",
    "    model.add(Dense(64, activation='relu'))\n",
    "    model.add(Dropout(dropout_rate)) \n",
    "    model.add(Dense(1, activation='sigmoid'))\n",
    "\n",
    "    model.compile(optimizer='adam', loss='binary_crossentropy', metrics=['accuracy'])\n",
    "    return model\n",
    "\n",
    "dropout_rates = [0.6, 0.8, 0.9]\n",
    "\n",
    "results = []\n",
    "\n",
    "for rate in dropout_rates:\n",
    "    print(f'Training model with dropout rate: {rate}')\n",
    "    \n",
    "    model = create_model(rate)\n",
    "    \n",
    "    early_stopping = EarlyStopping(monitor='val_loss', patience=3, restore_best_weights=True)\n",
    "    \n",
    "    history = model.fit(X_train, y_train, \n",
    "                        validation_data=(X_val, y_val), \n",
    "                        epochs=5,  \n",
    "                        batch_size=32,\n",
    "                        callbacks=[early_stopping],\n",
    "                        verbose=1)\n",
    "\n",
    "    val_loss, val_accuracy = model.evaluate(X_val, y_val, verbose=0)\n",
    "    results.append((rate, val_loss, val_accuracy))\n",
    "    print(f'Validation Loss: {val_loss:.4f}, Validation Accuracy: {val_accuracy:.4f}')"
   ]
  },
  {
   "cell_type": "markdown",
   "id": "f89a7bbb-52c1-43b7-b7a0-a23f7628a8c9",
   "metadata": {},
   "source": [
    "Increasing the dropout rate did not really help. I even added early stopping, which is a regularization technique,\n",
    "to prevent overfitting but did not improve the accuracy at all.\n",
    "\n",
    "Instead of LSTM, let's try GRU with different dropout rate."
   ]
  },
  {
   "cell_type": "code",
   "execution_count": 68,
   "id": "113426ad-dfe3-45e2-94e6-81fd7b74d636",
   "metadata": {},
   "outputs": [
    {
     "name": "stdout",
     "output_type": "stream",
     "text": [
      "Training with dropout rate: 0.6\n",
      "Epoch 1/5\n",
      "\u001b[1m191/191\u001b[0m \u001b[32m━━━━━━━━━━━━━━━━━━━━\u001b[0m\u001b[37m\u001b[0m \u001b[1m530s\u001b[0m 3s/step - accuracy: 0.5712 - loss: 0.6865 - val_accuracy: 0.5739 - val_loss: 0.6823\n",
      "Epoch 2/5\n",
      "\u001b[1m191/191\u001b[0m \u001b[32m━━━━━━━━━━━━━━━━━━━━\u001b[0m\u001b[37m\u001b[0m \u001b[1m427s\u001b[0m 2s/step - accuracy: 0.5755 - loss: 0.6843 - val_accuracy: 0.5739 - val_loss: 0.6841\n",
      "Epoch 3/5\n",
      "\u001b[1m191/191\u001b[0m \u001b[32m━━━━━━━━━━━━━━━━━━━━\u001b[0m\u001b[37m\u001b[0m \u001b[1m441s\u001b[0m 2s/step - accuracy: 0.5594 - loss: 0.6868 - val_accuracy: 0.5739 - val_loss: 0.6821\n",
      "Epoch 4/5\n",
      "\u001b[1m191/191\u001b[0m \u001b[32m━━━━━━━━━━━━━━━━━━━━\u001b[0m\u001b[37m\u001b[0m \u001b[1m505s\u001b[0m 3s/step - accuracy: 0.5696 - loss: 0.6840 - val_accuracy: 0.5739 - val_loss: 0.6823\n",
      "Epoch 5/5\n",
      "\u001b[1m191/191\u001b[0m \u001b[32m━━━━━━━━━━━━━━━━━━━━\u001b[0m\u001b[37m\u001b[0m \u001b[1m464s\u001b[0m 2s/step - accuracy: 0.5612 - loss: 0.6864 - val_accuracy: 0.5739 - val_loss: 0.6823\n",
      "Validation Accuracy: 0.5739, Loss: 0.6821\n",
      "Training with dropout rate: 0.8\n",
      "Epoch 1/5\n",
      "\u001b[1m191/191\u001b[0m \u001b[32m━━━━━━━━━━━━━━━━━━━━\u001b[0m\u001b[37m\u001b[0m \u001b[1m347s\u001b[0m 2s/step - accuracy: 0.5674 - loss: 0.6883 - val_accuracy: 0.5739 - val_loss: 0.6842\n",
      "Epoch 2/5\n",
      "\u001b[1m191/191\u001b[0m \u001b[32m━━━━━━━━━━━━━━━━━━━━\u001b[0m\u001b[37m\u001b[0m \u001b[1m342s\u001b[0m 2s/step - accuracy: 0.5627 - loss: 0.6862 - val_accuracy: 0.5739 - val_loss: 0.6822\n",
      "Epoch 3/5\n",
      "\u001b[1m191/191\u001b[0m \u001b[32m━━━━━━━━━━━━━━━━━━━━\u001b[0m\u001b[37m\u001b[0m \u001b[1m359s\u001b[0m 2s/step - accuracy: 0.5732 - loss: 0.6869 - val_accuracy: 0.5739 - val_loss: 0.6826\n",
      "Epoch 4/5\n",
      "\u001b[1m191/191\u001b[0m \u001b[32m━━━━━━━━━━━━━━━━━━━━\u001b[0m\u001b[37m\u001b[0m \u001b[1m457s\u001b[0m 2s/step - accuracy: 0.5633 - loss: 0.6865 - val_accuracy: 0.5739 - val_loss: 0.6823\n",
      "Epoch 5/5\n",
      "\u001b[1m191/191\u001b[0m \u001b[32m━━━━━━━━━━━━━━━━━━━━\u001b[0m\u001b[37m\u001b[0m \u001b[1m452s\u001b[0m 2s/step - accuracy: 0.5728 - loss: 0.6835 - val_accuracy: 0.5739 - val_loss: 0.6824\n",
      "Validation Accuracy: 0.5739, Loss: 0.6822\n",
      "Training with dropout rate: 0.9\n",
      "Epoch 1/5\n",
      "\u001b[1m191/191\u001b[0m \u001b[32m━━━━━━━━━━━━━━━━━━━━\u001b[0m\u001b[37m\u001b[0m \u001b[1m504s\u001b[0m 3s/step - accuracy: 0.5518 - loss: 0.6890 - val_accuracy: 0.5739 - val_loss: 0.6844\n",
      "Epoch 2/5\n",
      "\u001b[1m191/191\u001b[0m \u001b[32m━━━━━━━━━━━━━━━━━━━━\u001b[0m\u001b[37m\u001b[0m \u001b[1m508s\u001b[0m 3s/step - accuracy: 0.5681 - loss: 0.6865 - val_accuracy: 0.5739 - val_loss: 0.6833\n",
      "Epoch 3/5\n",
      "\u001b[1m191/191\u001b[0m \u001b[32m━━━━━━━━━━━━━━━━━━━━\u001b[0m\u001b[37m\u001b[0m \u001b[1m482s\u001b[0m 3s/step - accuracy: 0.5768 - loss: 0.6838 - val_accuracy: 0.5739 - val_loss: 0.6835\n",
      "Epoch 4/5\n",
      "\u001b[1m191/191\u001b[0m \u001b[32m━━━━━━━━━━━━━━━━━━━━\u001b[0m\u001b[37m\u001b[0m \u001b[1m457s\u001b[0m 2s/step - accuracy: 0.5590 - loss: 0.6874 - val_accuracy: 0.5739 - val_loss: 0.6822\n",
      "Epoch 5/5\n",
      "\u001b[1m191/191\u001b[0m \u001b[32m━━━━━━━━━━━━━━━━━━━━\u001b[0m\u001b[37m\u001b[0m \u001b[1m481s\u001b[0m 2s/step - accuracy: 0.5657 - loss: 0.6853 - val_accuracy: 0.5739 - val_loss: 0.6826\n",
      "Validation Accuracy: 0.5739, Loss: 0.6822\n"
     ]
    }
   ],
   "source": [
    "# Create a GRU-based model\n",
    "def create_gru_model(dropout_rate):\n",
    "    model = Sequential()\n",
    "    \n",
    "    model.add(GRU(128, return_sequences=False, input_shape=(X_train.shape[1], 1)))\n",
    "    \n",
    "    model.add(Dense(64, activation='relu'))\n",
    "    model.add(Dropout(dropout_rate))\n",
    "    \n",
    "    model.add(Dense(1, activation='sigmoid'))\n",
    "    \n",
    "    model.compile(optimizer='adam', loss='binary_crossentropy', metrics=['accuracy'])\n",
    "    return model\n",
    "\n",
    "# Train and validate with different dropout rates\n",
    "dropout_rates = [0.6, 0.8, 0.9]\n",
    "results = []\n",
    "\n",
    "for rate in dropout_rates:\n",
    "    print(f'Training with dropout rate: {rate}')\n",
    "    model = create_gru_model(rate)\n",
    "    \n",
    "    early_stopping = EarlyStopping(monitor='val_loss', patience=3, restore_best_weights=True)\n",
    "    \n",
    "    history = model.fit(X_train, y_train, validation_data=(X_val, y_val),\n",
    "        epochs=5, batch_size=32, callbacks=[early_stopping], verbose=1)\n",
    "    \n",
    "    val_loss, val_accuracy = model.evaluate(X_val, y_val, verbose=0)\n",
    "    results.append((rate, val_loss, val_accuracy))\n",
    "    print(f'Validation Accuracy: {val_accuracy:.4f}, Loss: {val_loss:.4f}')"
   ]
  },
  {
   "cell_type": "markdown",
   "id": "b2907359-0bf3-4793-a3fd-5974c6f24dee",
   "metadata": {},
   "source": [
    "The process has been very slow like taking hours.\n",
    "\n",
    "Now, I would like to use PyTorch tensors for faster process."
   ]
  },
  {
   "cell_type": "code",
   "execution_count": 31,
   "id": "5bb6f50d-1551-4921-b09f-e3dbb067df8e",
   "metadata": {},
   "outputs": [
    {
     "name": "stdout",
     "output_type": "stream",
     "text": [
      "Epoch 1/10, Loss: 110.6211, Validation Accuracy: 0.7853\n",
      "Epoch 2/10, Loss: 68.7646, Validation Accuracy: 0.7899\n",
      "Epoch 3/10, Loss: 53.0171, Validation Accuracy: 0.7754\n",
      "Epoch 4/10, Loss: 43.4715, Validation Accuracy: 0.7735\n",
      "Epoch 5/10, Loss: 36.7954, Validation Accuracy: 0.7623\n",
      "Epoch 6/10, Loss: 31.9436, Validation Accuracy: 0.7571\n",
      "Epoch 7/10, Loss: 28.4174, Validation Accuracy: 0.7459\n",
      "Epoch 8/10, Loss: 25.4918, Validation Accuracy: 0.7511\n",
      "Epoch 9/10, Loss: 22.9784, Validation Accuracy: 0.7518\n",
      "Epoch 10/10, Loss: 21.0882, Validation Accuracy: 0.7360\n"
     ]
    }
   ],
   "source": [
    "# Convert data to PyTorch tensors\n",
    "X_train_tensor = torch.tensor(X_train, dtype=torch.float32)\n",
    "X_val_tensor = torch.tensor(X_val, dtype=torch.float32)\n",
    "y_train_tensor = torch.tensor(y_train.values, dtype=torch.long)\n",
    "y_val_tensor = torch.tensor(y_val.values, dtype=torch.long)\n",
    "\n",
    "# Create DataLoader\n",
    "train_dataset = TensorDataset(X_train_tensor, y_train_tensor)\n",
    "val_dataset = TensorDataset(X_val_tensor, y_val_tensor)\n",
    "\n",
    "train_loader = DataLoader(train_dataset, batch_size=32, shuffle=True)\n",
    "val_loader = DataLoader(val_dataset, batch_size=32)\n",
    "\n",
    "#RNN model\n",
    "class SimpleRNN(nn.Module):\n",
    "    def __init__(self, input_dim, hidden_dim, output_dim):\n",
    "        super(SimpleRNN, self).__init__()\n",
    "        self.rnn = nn.RNN(input_dim, hidden_dim, batch_first=True)\n",
    "        self.fc = nn.Linear(hidden_dim, output_dim)\n",
    "\n",
    "    def forward(self, x):\n",
    "        x = x.unsqueeze(1) \n",
    "        rnn_out, _ = self.rnn(x)\n",
    "        out = self.fc(rnn_out[:, -1, :])\n",
    "        return out\n",
    "\n",
    "# Hyperparameters\n",
    "input_dim = X_train.shape[1]\n",
    "hidden_dim = 128\n",
    "output_dim = len(np.unique(y))\n",
    "learning_rate = 0.001\n",
    "num_epochs = 10\n",
    "\n",
    "# Model, loss, and optimizer\n",
    "model = SimpleRNN(input_dim, hidden_dim, output_dim)\n",
    "criterion = nn.CrossEntropyLoss()\n",
    "optimizer = optim.Adam(model.parameters(), lr=learning_rate)\n",
    "\n",
    "# Training loop\n",
    "device = torch.device('cuda' if torch.cuda.is_available() else 'cpu')\n",
    "model.to(device)\n",
    "\n",
    "for epoch in range(num_epochs):\n",
    "    model.train()\n",
    "    train_loss = 0\n",
    "    for X_batch, y_batch in train_loader:\n",
    "        X_batch, y_batch = X_batch.to(device), y_batch.to(device)\n",
    "        optimizer.zero_grad()\n",
    "        outputs = model(X_batch)\n",
    "        loss = criterion(outputs, y_batch)\n",
    "        loss.backward()\n",
    "        optimizer.step()\n",
    "        train_loss += loss.item()\n",
    "\n",
    "    # Validation accuracy\n",
    "    model.eval()\n",
    "    val_correct = 0\n",
    "    with torch.no_grad():\n",
    "        for X_batch, y_batch in val_loader:\n",
    "            X_batch, y_batch = X_batch.to(device), y_batch.to(device)\n",
    "            outputs = model(X_batch)\n",
    "            preds = torch.argmax(outputs, dim=1)\n",
    "            val_correct += torch.sum(preds == y_batch).item()\n",
    "\n",
    "    val_accuracy = val_correct / len(val_dataset)\n",
    "    print(f\"Epoch {epoch+1}/{num_epochs}, Loss: {train_loss:.4f}, Validation Accuracy: {val_accuracy:.4f}\")"
   ]
  },
  {
   "cell_type": "markdown",
   "id": "b4a2ec3c-337a-45fc-9e4c-fbfb4e8a06d4",
   "metadata": {},
   "source": [
    "The model processing is much faster with Pytorch tensor and validation accuracy is much higher now.\n",
    "\n",
    "This NLP data set is more suitable with simple RNN rather than more complex bidirectional LSTM. Also, even more\n",
    "complex model such as LSTM with more dense layer did not result the higher accuracy. Different drop out rate\n",
    "with early stopping, which is regularization technique, did not improve the accuracy.\n",
    "\n",
    "Using the DataLoader in Pytorch may have prevented the overfitting more efficiently than increasing the dropout\n",
    "rates and adding early stopping, because DataLoader shuffles the data that makes model not to overfit to a specific \n",
    "sequence of batches.\n",
    "\n",
    "I thought more batch size would be more effective so used 64 on the previous models but used 32 batch size on the \n",
    "last model and the result is better. It is because a smaller batch size can improve gradient updates, especially for\n",
    "smaller datasets. I did not think 7600 rows in train dataset would be consdiered as smaller dataset but it could be\n",
    "smaller dataset compare to other real world datasets.\n",
    "\n",
    "Due to the processing time, I selected 5 for epochs but 10 for the last model. More epochs can improve the model because\n",
    "the model can learn the patterns more fully."
   ]
  },
  {
   "cell_type": "markdown",
   "id": "7fc5aa73-d889-43b4-b587-dcc2023df754",
   "metadata": {},
   "source": [
    "Time to predict the Tweets text in the test data."
   ]
  },
  {
   "cell_type": "code",
   "execution_count": 36,
   "id": "b6db9f01-119b-4008-9a6c-2dcfa9f37b4d",
   "metadata": {},
   "outputs": [
    {
     "name": "stdout",
     "output_type": "stream",
     "text": [
      "   id keyword location                                               text  \\\n",
      "0   0     NaN      NaN                      happened a terrible car crash   \n",
      "1   2     NaN      NaN  heard about earthquake is different cities sta...   \n",
      "2   3     NaN      NaN  there is a forest fire at spot pond geese are ...   \n",
      "3   9     NaN      NaN              apocalypse lighting spokane wildfires   \n",
      "4  11     NaN      NaN        typhoon soudelor kills  in china and taiwan   \n",
      "\n",
      "   label  taget  \n",
      "0      1      1  \n",
      "1      1      1  \n",
      "2      1      1  \n",
      "3      1      1  \n",
      "4      1      1  \n"
     ]
    }
   ],
   "source": [
    "#Preprocessing just like the train dataset\n",
    "test['text'] = test['text'].apply(preprocess_text)\n",
    "\n",
    "#Removing 'california', 'like', and 'just' words in the test dataset\n",
    "test['text'] = test['text'].str.replace(r'\\b(california|like|just)\\b', '', case=False, regex=True)\n",
    "\n",
    "#Transform test data\n",
    "X_test = vectorizer.transform(test['text']).toarray()\n",
    "\n",
    "# Convert test data to PyTorch tensor\n",
    "X_test_tensor = torch.tensor(X_test, dtype=torch.float32)\n",
    "\n",
    "# Create DataLoader for the test set\n",
    "test_dataset = TensorDataset(X_test_tensor)\n",
    "test_loader = DataLoader(test_dataset, batch_size=32, shuffle=False)\n",
    "\n",
    "# Ensure the model is in evaluation mode\n",
    "model.eval()\n",
    "\n",
    "# Predict the labels\n",
    "predicted_labels = []\n",
    "with torch.no_grad():\n",
    "    for X_batch in test_loader:\n",
    "        X_batch = X_batch[0].to(device)  # Test DataLoader returns a tuple\n",
    "        outputs = model(X_batch)\n",
    "        preds = torch.argmax(outputs, dim=1)\n",
    "        predicted_labels.extend(preds.cpu().numpy())\n",
    "\n",
    "# Add predicted labels to the test DataFrame\n",
    "test['taget'] = predicted_labels\n",
    "\n",
    "# Display the test DataFrame with the new column\n",
    "print(test.head())"
   ]
  },
  {
   "cell_type": "code",
   "execution_count": 39,
   "id": "e45ce251-8645-4ede-992b-aaa04d929846",
   "metadata": {},
   "outputs": [
    {
     "name": "stdout",
     "output_type": "stream",
     "text": [
      "   id  target\n",
      "0   0       1\n",
      "1   2       1\n",
      "2   3       1\n",
      "3   9       1\n",
      "4  11       1\n"
     ]
    }
   ],
   "source": [
    "submission = test[['id']].copy()\n",
    "submission['target'] = predicted_labels\n",
    "\n",
    "submission.to_csv('submission.csv', index=False)\n",
    "\n",
    "print(submission.head())"
   ]
  },
  {
   "cell_type": "markdown",
   "id": "77c86314-6239-4483-8d72-912e72731e66",
   "metadata": {},
   "source": [
    "Conclusion: In this project, I developed and evaluated multiple machine learning models to classify\n",
    "tweet texts rather they are about non-disaster(0) or real disaster(1). First, I built a bidirectional LSTM model\n",
    "but the validation accuracy was 0.57, which is lower than my expectation, so built simpler RNN using TF-IDF vectorizer\n",
    "but the accuracy did not improve. Third model was bidirectional LSTM model but with one more LSTM layer, which is more\n",
    "complex than the first model. I thought more complex model would learn the pattern in the dataset better and \n",
    "improve the validation accuracy but the result was same as before. After trying out all these, I tried out different\n",
    "dropout rate because I thought there could be overfitting on the validation dataset so increasing the drop out rate\n",
    "could help but the result was same. Instead of LSTM, also tried out GRU but the accuracy did not improve. Finally, the last\n",
    "model that I built was simple RNN model using PyTorch. The LSTM and GRU were computaionally expensive and took so much time to run\n",
    "but switching to PyTorch allowed the RNN model to run so mcuh faster and validation accuracy improved to around 0.77.\n",
    "I thought complex and computationally more expensive models always work better for any dataset but I learned that I was wrong.\n",
    "Those complex models can perform better with larger datasets but the dataset I had for this project was more suitable with\n",
    "simpler RNN model."
   ]
  }
 ],
 "metadata": {
  "kernelspec": {
   "display_name": "Python 3 (ipykernel)",
   "language": "python",
   "name": "python3"
  },
  "language_info": {
   "codemirror_mode": {
    "name": "ipython",
    "version": 3
   },
   "file_extension": ".py",
   "mimetype": "text/x-python",
   "name": "python",
   "nbconvert_exporter": "python",
   "pygments_lexer": "ipython3",
   "version": "3.9.6"
  }
 },
 "nbformat": 4,
 "nbformat_minor": 5
}
